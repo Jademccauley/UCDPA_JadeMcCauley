{
 "cells": [
  {
   "cell_type": "code",
   "execution_count": 1,
   "id": "280c8b31-243a-4ab9-846a-7c9c1bf22b65",
   "metadata": {},
   "outputs": [],
   "source": [
    "import yfinance as yf\n",
    "import pandas as pd \n",
    "import numpy as np\n",
    "import matplotlib.pyplot as plt\n",
    "import seaborn as sns"
   ]
  },
  {
   "cell_type": "markdown",
   "id": "d6e6ec31-c9c9-4716-8284-c516694a78ab",
   "metadata": {},
   "source": [
    "# Importing CSV file - Bitcoin"
   ]
  },
  {
   "cell_type": "code",
   "execution_count": 2,
   "id": "4b66aa02-6f97-4432-953f-e19295c677cd",
   "metadata": {},
   "outputs": [],
   "source": [
    "bitcoin = pd.read_csv(\"C:\\Temp\\Bitcoin.csv\")"
   ]
  },
  {
   "cell_type": "code",
   "execution_count": 3,
   "id": "54c52ac2-1e69-40a5-a802-20a55013127f",
   "metadata": {},
   "outputs": [
    {
     "data": {
      "text/html": [
       "<div>\n",
       "<style scoped>\n",
       "    .dataframe tbody tr th:only-of-type {\n",
       "        vertical-align: middle;\n",
       "    }\n",
       "\n",
       "    .dataframe tbody tr th {\n",
       "        vertical-align: top;\n",
       "    }\n",
       "\n",
       "    .dataframe thead th {\n",
       "        text-align: right;\n",
       "    }\n",
       "</style>\n",
       "<table border=\"1\" class=\"dataframe\">\n",
       "  <thead>\n",
       "    <tr style=\"text-align: right;\">\n",
       "      <th></th>\n",
       "      <th>Date</th>\n",
       "      <th>Open</th>\n",
       "      <th>High</th>\n",
       "      <th>Low</th>\n",
       "      <th>Close</th>\n",
       "      <th>Adj Close</th>\n",
       "      <th>Volume</th>\n",
       "    </tr>\n",
       "  </thead>\n",
       "  <tbody>\n",
       "    <tr>\n",
       "      <th>0</th>\n",
       "      <td>2014-09-17</td>\n",
       "      <td>465.864014</td>\n",
       "      <td>468.174011</td>\n",
       "      <td>452.421997</td>\n",
       "      <td>457.334015</td>\n",
       "      <td>457.334015</td>\n",
       "      <td>21056800</td>\n",
       "    </tr>\n",
       "    <tr>\n",
       "      <th>1</th>\n",
       "      <td>2014-09-18</td>\n",
       "      <td>456.859985</td>\n",
       "      <td>456.859985</td>\n",
       "      <td>413.104004</td>\n",
       "      <td>424.440002</td>\n",
       "      <td>424.440002</td>\n",
       "      <td>34483200</td>\n",
       "    </tr>\n",
       "    <tr>\n",
       "      <th>2</th>\n",
       "      <td>2014-09-19</td>\n",
       "      <td>424.102997</td>\n",
       "      <td>427.834991</td>\n",
       "      <td>384.532013</td>\n",
       "      <td>394.795990</td>\n",
       "      <td>394.795990</td>\n",
       "      <td>37919700</td>\n",
       "    </tr>\n",
       "    <tr>\n",
       "      <th>3</th>\n",
       "      <td>2014-09-20</td>\n",
       "      <td>394.673004</td>\n",
       "      <td>423.295990</td>\n",
       "      <td>389.882996</td>\n",
       "      <td>408.903992</td>\n",
       "      <td>408.903992</td>\n",
       "      <td>36863600</td>\n",
       "    </tr>\n",
       "    <tr>\n",
       "      <th>4</th>\n",
       "      <td>2014-09-21</td>\n",
       "      <td>408.084991</td>\n",
       "      <td>412.425995</td>\n",
       "      <td>393.181000</td>\n",
       "      <td>398.821014</td>\n",
       "      <td>398.821014</td>\n",
       "      <td>26580100</td>\n",
       "    </tr>\n",
       "  </tbody>\n",
       "</table>\n",
       "</div>"
      ],
      "text/plain": [
       "         Date        Open        High         Low       Close   Adj Close  \\\n",
       "0  2014-09-17  465.864014  468.174011  452.421997  457.334015  457.334015   \n",
       "1  2014-09-18  456.859985  456.859985  413.104004  424.440002  424.440002   \n",
       "2  2014-09-19  424.102997  427.834991  384.532013  394.795990  394.795990   \n",
       "3  2014-09-20  394.673004  423.295990  389.882996  408.903992  408.903992   \n",
       "4  2014-09-21  408.084991  412.425995  393.181000  398.821014  398.821014   \n",
       "\n",
       "     Volume  \n",
       "0  21056800  \n",
       "1  34483200  \n",
       "2  37919700  \n",
       "3  36863600  \n",
       "4  26580100  "
      ]
     },
     "execution_count": 3,
     "metadata": {},
     "output_type": "execute_result"
    }
   ],
   "source": [
    "bitcoin.head()"
   ]
  },
  {
   "cell_type": "code",
   "execution_count": 4,
   "id": "11800bed-962a-4966-b974-1c47d934ae25",
   "metadata": {},
   "outputs": [],
   "source": [
    "bitcoin2 = bitcoin.rename(columns={'Adj Close':'Price'})"
   ]
  },
  {
   "cell_type": "code",
   "execution_count": 5,
   "id": "1a863536-3ee4-4ff6-a31c-13b672c8deee",
   "metadata": {},
   "outputs": [
    {
     "name": "stdout",
     "output_type": "stream",
     "text": [
      "         Date        Open        High         Low       Close       Price  \\\n",
      "0  2014-09-17  465.864014  468.174011  452.421997  457.334015  457.334015   \n",
      "1  2014-09-18  456.859985  456.859985  413.104004  424.440002  424.440002   \n",
      "2  2014-09-19  424.102997  427.834991  384.532013  394.795990  394.795990   \n",
      "3  2014-09-20  394.673004  423.295990  389.882996  408.903992  408.903992   \n",
      "4  2014-09-21  408.084991  412.425995  393.181000  398.821014  398.821014   \n",
      "\n",
      "     Volume  \n",
      "0  21056800  \n",
      "1  34483200  \n",
      "2  37919700  \n",
      "3  36863600  \n",
      "4  26580100  \n"
     ]
    }
   ],
   "source": [
    "print(bitcoin2.head())"
   ]
  },
  {
   "cell_type": "markdown",
   "id": "8517613e-ec82-449e-bb96-98329e3cc26a",
   "metadata": {},
   "source": [
    "# Convert daily dates to monthly dates for returns"
   ]
  },
  {
   "cell_type": "markdown",
   "id": "d62ad500-7297-4ea6-b321-0711f5ddaeab",
   "metadata": {},
   "source": [
    "Firstly, we need a monthly date from datetime object using .dt method"
   ]
  },
  {
   "cell_type": "code",
   "execution_count": 6,
   "id": "168ab3f7-f6b4-48a4-8495-b10ef3186fc2",
   "metadata": {},
   "outputs": [
    {
     "name": "stdout",
     "output_type": "stream",
     "text": [
      "<class 'pandas.core.frame.DataFrame'>\n",
      "RangeIndex: 2683 entries, 0 to 2682\n",
      "Data columns (total 7 columns):\n",
      " #   Column  Non-Null Count  Dtype  \n",
      "---  ------  --------------  -----  \n",
      " 0   Date    2683 non-null   object \n",
      " 1   Open    2683 non-null   float64\n",
      " 2   High    2683 non-null   float64\n",
      " 3   Low     2683 non-null   float64\n",
      " 4   Close   2683 non-null   float64\n",
      " 5   Price   2683 non-null   float64\n",
      " 6   Volume  2683 non-null   int64  \n",
      "dtypes: float64(5), int64(1), object(1)\n",
      "memory usage: 146.9+ KB\n"
     ]
    }
   ],
   "source": [
    "bitcoin2.info()"
   ]
  },
  {
   "cell_type": "markdown",
   "id": "c0aef184-7d14-436e-a896-97a14280aeb8",
   "metadata": {},
   "source": [
    "Must convert datetype from object to datetime."
   ]
  },
  {
   "cell_type": "code",
   "execution_count": 7,
   "id": "59229303-37b9-4c60-b6bc-126f6d393bef",
   "metadata": {},
   "outputs": [],
   "source": [
    "bitcoin2['Date'] = pd.to_datetime(bitcoin2['Date'])"
   ]
  },
  {
   "cell_type": "code",
   "execution_count": 8,
   "id": "8613b601-171c-4009-816e-d60f37c8aa7c",
   "metadata": {},
   "outputs": [
    {
     "name": "stdout",
     "output_type": "stream",
     "text": [
      "<class 'pandas.core.frame.DataFrame'>\n",
      "RangeIndex: 2683 entries, 0 to 2682\n",
      "Data columns (total 7 columns):\n",
      " #   Column  Non-Null Count  Dtype         \n",
      "---  ------  --------------  -----         \n",
      " 0   Date    2683 non-null   datetime64[ns]\n",
      " 1   Open    2683 non-null   float64       \n",
      " 2   High    2683 non-null   float64       \n",
      " 3   Low     2683 non-null   float64       \n",
      " 4   Close   2683 non-null   float64       \n",
      " 5   Price   2683 non-null   float64       \n",
      " 6   Volume  2683 non-null   int64         \n",
      "dtypes: datetime64[ns](1), float64(5), int64(1)\n",
      "memory usage: 146.9 KB\n"
     ]
    }
   ],
   "source": [
    "bitcoin2.info()"
   ]
  },
  {
   "cell_type": "markdown",
   "id": "970e430d-c3ac-4fd5-b9eb-8d8c2b06dc7a",
   "metadata": {},
   "source": [
    "Date object type column converted to Datetime"
   ]
  },
  {
   "cell_type": "code",
   "execution_count": 10,
   "id": "bc765297-2ed1-4106-a9ca-cd54e5f2e851",
   "metadata": {},
   "outputs": [],
   "source": [
    "bitcoin2['mdate']=bitcoin2['Date'].dt.to_period(\"M\")"
   ]
  },
  {
   "cell_type": "code",
   "execution_count": 11,
   "id": "905758bc-c5d4-46f1-8409-bf6361a6f55b",
   "metadata": {},
   "outputs": [
    {
     "name": "stdout",
     "output_type": "stream",
     "text": [
      "        Date        Open        High         Low       Close       Price  \\\n",
      "0 2014-09-17  465.864014  468.174011  452.421997  457.334015  457.334015   \n",
      "1 2014-09-18  456.859985  456.859985  413.104004  424.440002  424.440002   \n",
      "2 2014-09-19  424.102997  427.834991  384.532013  394.795990  394.795990   \n",
      "3 2014-09-20  394.673004  423.295990  389.882996  408.903992  408.903992   \n",
      "4 2014-09-21  408.084991  412.425995  393.181000  398.821014  398.821014   \n",
      "\n",
      "     Volume    mdate  \n",
      "0  21056800  2014-09  \n",
      "1  34483200  2014-09  \n",
      "2  37919700  2014-09  \n",
      "3  36863600  2014-09  \n",
      "4  26580100  2014-09  \n"
     ]
    }
   ],
   "source": [
    "print(bitcoin2.head())"
   ]
  },
  {
   "cell_type": "markdown",
   "id": "882c6a88-7bcb-4325-855b-b944cf82154f",
   "metadata": {},
   "source": [
    "Only interested in mdate and price columns"
   ]
  },
  {
   "cell_type": "code",
   "execution_count": 25,
   "id": "76f6bb18-9aa7-483d-87a8-93dcff8c16a8",
   "metadata": {},
   "outputs": [],
   "source": [
    "bitcoin3= bitcoin2[['mdate','Price']]"
   ]
  },
  {
   "cell_type": "code",
   "execution_count": 26,
   "id": "194fb91a-a101-4ead-a9c3-a5f1ef49d177",
   "metadata": {},
   "outputs": [
    {
     "name": "stdout",
     "output_type": "stream",
     "text": [
      "     mdate       Price\n",
      "0  2014-09  457.334015\n",
      "1  2014-09  424.440002\n",
      "2  2014-09  394.795990\n",
      "3  2014-09  408.903992\n",
      "4  2014-09  398.821014\n"
     ]
    }
   ],
   "source": [
    "print(bitcoin3.head())"
   ]
  },
  {
   "cell_type": "markdown",
   "id": "8233daa6-52c0-437b-8130-82a90e5aa1f2",
   "metadata": {},
   "source": [
    "returning nulls"
   ]
  },
  {
   "cell_type": "code",
   "execution_count": 32,
   "id": "35a50b4a-7d61-4528-a474-44f71a6124b7",
   "metadata": {},
   "outputs": [
    {
     "data": {
      "text/plain": [
       "mdate    False\n",
       "Price    False\n",
       "dtype: bool"
      ]
     },
     "execution_count": 32,
     "metadata": {},
     "output_type": "execute_result"
    }
   ],
   "source": [
    "bitcoin3.isnull().any()"
   ]
  },
  {
   "cell_type": "code",
   "execution_count": 33,
   "id": "77d68f89-1493-4842-a9ed-9511bd559515",
   "metadata": {},
   "outputs": [
    {
     "data": {
      "text/html": [
       "<div>\n",
       "<style scoped>\n",
       "    .dataframe tbody tr th:only-of-type {\n",
       "        vertical-align: middle;\n",
       "    }\n",
       "\n",
       "    .dataframe tbody tr th {\n",
       "        vertical-align: top;\n",
       "    }\n",
       "\n",
       "    .dataframe thead th {\n",
       "        text-align: right;\n",
       "    }\n",
       "</style>\n",
       "<table border=\"1\" class=\"dataframe\">\n",
       "  <thead>\n",
       "    <tr style=\"text-align: right;\">\n",
       "      <th></th>\n",
       "      <th>mdate</th>\n",
       "      <th>Price</th>\n",
       "    </tr>\n",
       "  </thead>\n",
       "  <tbody>\n",
       "    <tr>\n",
       "      <th>0</th>\n",
       "      <td>2014-09</td>\n",
       "      <td>457.334015</td>\n",
       "    </tr>\n",
       "    <tr>\n",
       "      <th>1</th>\n",
       "      <td>2014-09</td>\n",
       "      <td>424.440002</td>\n",
       "    </tr>\n",
       "    <tr>\n",
       "      <th>2</th>\n",
       "      <td>2014-09</td>\n",
       "      <td>394.795990</td>\n",
       "    </tr>\n",
       "    <tr>\n",
       "      <th>3</th>\n",
       "      <td>2014-09</td>\n",
       "      <td>408.903992</td>\n",
       "    </tr>\n",
       "    <tr>\n",
       "      <th>4</th>\n",
       "      <td>2014-09</td>\n",
       "      <td>398.821014</td>\n",
       "    </tr>\n",
       "  </tbody>\n",
       "</table>\n",
       "</div>"
      ],
      "text/plain": [
       "     mdate       Price\n",
       "0  2014-09  457.334015\n",
       "1  2014-09  424.440002\n",
       "2  2014-09  394.795990\n",
       "3  2014-09  408.903992\n",
       "4  2014-09  398.821014"
      ]
     },
     "execution_count": 33,
     "metadata": {},
     "output_type": "execute_result"
    }
   ],
   "source": [
    "bitcoin3.drop_duplicates(subset=['Price']).head()"
   ]
  },
  {
   "cell_type": "markdown",
   "id": "743635df-4d69-4887-83d6-f08bdb7c2a8e",
   "metadata": {},
   "source": [
    "# Importing S&P 500 "
   ]
  },
  {
   "cell_type": "code",
   "execution_count": 34,
   "id": "2281132c-10b5-475a-a596-2428fd7a3825",
   "metadata": {},
   "outputs": [
    {
     "name": "stdout",
     "output_type": "stream",
     "text": [
      "              sp500\n",
      "DATE               \n",
      "2014-01-01      NaN\n",
      "2014-01-02  1831.98\n",
      "2014-01-03  1831.37\n",
      "2014-01-06  1826.77\n",
      "2014-01-07  1837.88\n",
      "...             ...\n",
      "2021-12-27  4791.19\n",
      "2021-12-28  4786.35\n",
      "2021-12-29  4793.06\n",
      "2021-12-30  4778.73\n",
      "2021-12-31  4766.18\n",
      "\n",
      "[2088 rows x 1 columns]\n"
     ]
    }
   ],
   "source": [
    "pd.core.common.is_list_like = pd.api.types.is_list_like\n",
    "import pandas_datareader.data as web\n",
    "import datetime\n",
    "\n",
    "start=datetime.datetime(2014,1,1)\n",
    "end=datetime.datetime(2022,1,1)\n",
    "SP500= web.DataReader (['sp500'], 'fred', start, end)\n",
    "print(SP500)"
   ]
  },
  {
   "cell_type": "code",
   "execution_count": 37,
   "id": "ecfa3ec9-3acc-43ac-b352-3bd41719a376",
   "metadata": {},
   "outputs": [
    {
     "data": {
      "text/html": [
       "<div>\n",
       "<style scoped>\n",
       "    .dataframe tbody tr th:only-of-type {\n",
       "        vertical-align: middle;\n",
       "    }\n",
       "\n",
       "    .dataframe tbody tr th {\n",
       "        vertical-align: top;\n",
       "    }\n",
       "\n",
       "    .dataframe thead th {\n",
       "        text-align: right;\n",
       "    }\n",
       "</style>\n",
       "<table border=\"1\" class=\"dataframe\">\n",
       "  <thead>\n",
       "    <tr style=\"text-align: right;\">\n",
       "      <th></th>\n",
       "      <th>sp500</th>\n",
       "    </tr>\n",
       "    <tr>\n",
       "      <th>DATE</th>\n",
       "      <th></th>\n",
       "    </tr>\n",
       "  </thead>\n",
       "  <tbody>\n",
       "    <tr>\n",
       "      <th>2014-01-02</th>\n",
       "      <td>1831.98</td>\n",
       "    </tr>\n",
       "    <tr>\n",
       "      <th>2014-01-03</th>\n",
       "      <td>1831.37</td>\n",
       "    </tr>\n",
       "    <tr>\n",
       "      <th>2014-01-06</th>\n",
       "      <td>1826.77</td>\n",
       "    </tr>\n",
       "    <tr>\n",
       "      <th>2014-01-07</th>\n",
       "      <td>1837.88</td>\n",
       "    </tr>\n",
       "    <tr>\n",
       "      <th>2014-01-08</th>\n",
       "      <td>1837.49</td>\n",
       "    </tr>\n",
       "  </tbody>\n",
       "</table>\n",
       "</div>"
      ],
      "text/plain": [
       "              sp500\n",
       "DATE               \n",
       "2014-01-02  1831.98\n",
       "2014-01-03  1831.37\n",
       "2014-01-06  1826.77\n",
       "2014-01-07  1837.88\n",
       "2014-01-08  1837.49"
      ]
     },
     "execution_count": 37,
     "metadata": {},
     "output_type": "execute_result"
    }
   ],
   "source": [
    "SP500.head()"
   ]
  },
  {
   "cell_type": "markdown",
   "id": "3d2bdc70-b73e-4278-8030-296371e1942b",
   "metadata": {},
   "source": [
    "# Drop NA values"
   ]
  },
  {
   "cell_type": "code",
   "execution_count": 39,
   "id": "0311ceb6-22e2-4c08-b246-4f6e383c69b9",
   "metadata": {},
   "outputs": [],
   "source": [
    "SP500.dropna(inplace=True)"
   ]
  },
  {
   "cell_type": "code",
   "execution_count": 40,
   "id": "31cb82b3-29e1-4f3c-b731-b36333a7eb17",
   "metadata": {},
   "outputs": [
    {
     "name": "stdout",
     "output_type": "stream",
     "text": [
      "              sp500\n",
      "DATE               \n",
      "2014-01-02  1831.98\n",
      "2014-01-03  1831.37\n",
      "2014-01-06  1826.77\n",
      "2014-01-07  1837.88\n",
      "2014-01-08  1837.49\n"
     ]
    }
   ],
   "source": [
    "print(SP500.head())"
   ]
  },
  {
   "cell_type": "code",
   "execution_count": 41,
   "id": "446b9224-2768-49c7-8cc4-49a389468aba",
   "metadata": {},
   "outputs": [
    {
     "name": "stdout",
     "output_type": "stream",
     "text": [
      "<class 'pandas.core.frame.DataFrame'>\n",
      "DatetimeIndex: 2015 entries, 2014-01-02 to 2021-12-31\n",
      "Data columns (total 1 columns):\n",
      " #   Column  Non-Null Count  Dtype  \n",
      "---  ------  --------------  -----  \n",
      " 0   sp500   2015 non-null   float64\n",
      "dtypes: float64(1)\n",
      "memory usage: 31.5 KB\n"
     ]
    }
   ],
   "source": [
    "SP500.info()"
   ]
  },
  {
   "cell_type": "markdown",
   "id": "98fbb977-8abb-4edf-904a-dcbefb694471",
   "metadata": {},
   "source": [
    "The date range of this dataset is from 2014-2021"
   ]
  },
  {
   "cell_type": "code",
   "execution_count": 42,
   "id": "d6cc6740-9ec4-496c-8ff4-3231b4573f21",
   "metadata": {},
   "outputs": [],
   "source": [
    "SP500BTC = bitcoin3.merge(SP500, how='inner',right_index = True, left_index=True)"
   ]
  },
  {
   "cell_type": "code",
   "execution_count": 43,
   "id": "b794817a-435f-4271-988c-c3326c109458",
   "metadata": {},
   "outputs": [
    {
     "name": "stdout",
     "output_type": "stream",
     "text": [
      "Empty DataFrame\n",
      "Columns: [mdate, Price, sp500]\n",
      "Index: []\n"
     ]
    }
   ],
   "source": [
    "print(SP500BTC)"
   ]
  },
  {
   "cell_type": "markdown",
   "id": "ddd252a0-5e6c-45e5-a366-44c86cb6a324",
   "metadata": {},
   "source": [
    "# Importing Cyrtocurrencies from YahooFinance"
   ]
  },
  {
   "cell_type": "code",
   "execution_count": 44,
   "id": "ac7d7e00-c9de-4e3c-af75-0df6cb478525",
   "metadata": {},
   "outputs": [],
   "source": [
    "# list of crptocurrencies as ticker arguments\n",
    "cryptocurrencies = ['BNB-USD','BTC-USD', 'ETH-USD', 'XRP-USD']"
   ]
  },
  {
   "cell_type": "markdown",
   "id": "b594f919-39ad-4287-8b76-c6badcbc01f2",
   "metadata": {},
   "source": [
    "Analysing changes in the crypto market since Covid 19. The start date is the first of January 2020"
   ]
  },
  {
   "cell_type": "code",
   "execution_count": 47,
   "id": "1c5aedb8-b3c9-4ca9-9df4-ecbd97a333c8",
   "metadata": {},
   "outputs": [
    {
     "name": "stdout",
     "output_type": "stream",
     "text": [
      "[*********************100%***********************]  4 of 4 completed\n"
     ]
    },
    {
     "data": {
      "text/html": [
       "<div>\n",
       "<style scoped>\n",
       "    .dataframe tbody tr th:only-of-type {\n",
       "        vertical-align: middle;\n",
       "    }\n",
       "\n",
       "    .dataframe tbody tr th {\n",
       "        vertical-align: top;\n",
       "    }\n",
       "\n",
       "    .dataframe thead tr th {\n",
       "        text-align: left;\n",
       "    }\n",
       "\n",
       "    .dataframe thead tr:last-of-type th {\n",
       "        text-align: right;\n",
       "    }\n",
       "</style>\n",
       "<table border=\"1\" class=\"dataframe\">\n",
       "  <thead>\n",
       "    <tr>\n",
       "      <th></th>\n",
       "      <th colspan=\"4\" halign=\"left\">Adj Close</th>\n",
       "      <th colspan=\"4\" halign=\"left\">Close</th>\n",
       "      <th colspan=\"2\" halign=\"left\">High</th>\n",
       "      <th>...</th>\n",
       "      <th colspan=\"2\" halign=\"left\">Low</th>\n",
       "      <th colspan=\"4\" halign=\"left\">Open</th>\n",
       "      <th colspan=\"4\" halign=\"left\">Volume</th>\n",
       "    </tr>\n",
       "    <tr>\n",
       "      <th></th>\n",
       "      <th>BNB-USD</th>\n",
       "      <th>BTC-USD</th>\n",
       "      <th>ETH-USD</th>\n",
       "      <th>XRP-USD</th>\n",
       "      <th>BNB-USD</th>\n",
       "      <th>BTC-USD</th>\n",
       "      <th>ETH-USD</th>\n",
       "      <th>XRP-USD</th>\n",
       "      <th>BNB-USD</th>\n",
       "      <th>BTC-USD</th>\n",
       "      <th>...</th>\n",
       "      <th>ETH-USD</th>\n",
       "      <th>XRP-USD</th>\n",
       "      <th>BNB-USD</th>\n",
       "      <th>BTC-USD</th>\n",
       "      <th>ETH-USD</th>\n",
       "      <th>XRP-USD</th>\n",
       "      <th>BNB-USD</th>\n",
       "      <th>BTC-USD</th>\n",
       "      <th>ETH-USD</th>\n",
       "      <th>XRP-USD</th>\n",
       "    </tr>\n",
       "    <tr>\n",
       "      <th>Date</th>\n",
       "      <th></th>\n",
       "      <th></th>\n",
       "      <th></th>\n",
       "      <th></th>\n",
       "      <th></th>\n",
       "      <th></th>\n",
       "      <th></th>\n",
       "      <th></th>\n",
       "      <th></th>\n",
       "      <th></th>\n",
       "      <th></th>\n",
       "      <th></th>\n",
       "      <th></th>\n",
       "      <th></th>\n",
       "      <th></th>\n",
       "      <th></th>\n",
       "      <th></th>\n",
       "      <th></th>\n",
       "      <th></th>\n",
       "      <th></th>\n",
       "      <th></th>\n",
       "    </tr>\n",
       "  </thead>\n",
       "  <tbody>\n",
       "    <tr>\n",
       "      <th>2020-01-01</th>\n",
       "      <td>13.689083</td>\n",
       "      <td>7200.174316</td>\n",
       "      <td>130.802002</td>\n",
       "      <td>0.192667</td>\n",
       "      <td>13.689083</td>\n",
       "      <td>7200.174316</td>\n",
       "      <td>130.802002</td>\n",
       "      <td>0.192667</td>\n",
       "      <td>13.873946</td>\n",
       "      <td>7254.330566</td>\n",
       "      <td>...</td>\n",
       "      <td>129.198288</td>\n",
       "      <td>0.192107</td>\n",
       "      <td>13.730962</td>\n",
       "      <td>7194.892090</td>\n",
       "      <td>129.630661</td>\n",
       "      <td>0.192912</td>\n",
       "      <td>172980718</td>\n",
       "      <td>18565664997</td>\n",
       "      <td>7935230330</td>\n",
       "      <td>1041134003</td>\n",
       "    </tr>\n",
       "    <tr>\n",
       "      <th>2020-01-02</th>\n",
       "      <td>13.027011</td>\n",
       "      <td>6985.470215</td>\n",
       "      <td>127.410179</td>\n",
       "      <td>0.188043</td>\n",
       "      <td>13.027011</td>\n",
       "      <td>6985.470215</td>\n",
       "      <td>127.410179</td>\n",
       "      <td>0.188043</td>\n",
       "      <td>13.715548</td>\n",
       "      <td>7212.155273</td>\n",
       "      <td>...</td>\n",
       "      <td>126.954910</td>\n",
       "      <td>0.186947</td>\n",
       "      <td>13.698126</td>\n",
       "      <td>7202.551270</td>\n",
       "      <td>130.820038</td>\n",
       "      <td>0.192708</td>\n",
       "      <td>156376427</td>\n",
       "      <td>20802083465</td>\n",
       "      <td>8032709256</td>\n",
       "      <td>1085351426</td>\n",
       "    </tr>\n",
       "    <tr>\n",
       "      <th>2020-01-03</th>\n",
       "      <td>13.660452</td>\n",
       "      <td>7344.884277</td>\n",
       "      <td>134.171707</td>\n",
       "      <td>0.193521</td>\n",
       "      <td>13.660452</td>\n",
       "      <td>7344.884277</td>\n",
       "      <td>134.171707</td>\n",
       "      <td>0.193521</td>\n",
       "      <td>13.763709</td>\n",
       "      <td>7413.715332</td>\n",
       "      <td>...</td>\n",
       "      <td>126.490021</td>\n",
       "      <td>0.185846</td>\n",
       "      <td>13.035329</td>\n",
       "      <td>6984.428711</td>\n",
       "      <td>127.411263</td>\n",
       "      <td>0.187948</td>\n",
       "      <td>173683857</td>\n",
       "      <td>28111481032</td>\n",
       "      <td>10476845358</td>\n",
       "      <td>1270017043</td>\n",
       "    </tr>\n",
       "    <tr>\n",
       "      <th>2020-01-04</th>\n",
       "      <td>13.891512</td>\n",
       "      <td>7410.656738</td>\n",
       "      <td>135.069366</td>\n",
       "      <td>0.194355</td>\n",
       "      <td>13.891512</td>\n",
       "      <td>7410.656738</td>\n",
       "      <td>135.069366</td>\n",
       "      <td>0.194355</td>\n",
       "      <td>13.921914</td>\n",
       "      <td>7427.385742</td>\n",
       "      <td>...</td>\n",
       "      <td>133.040558</td>\n",
       "      <td>0.191835</td>\n",
       "      <td>13.667442</td>\n",
       "      <td>7345.375488</td>\n",
       "      <td>134.168518</td>\n",
       "      <td>0.193521</td>\n",
       "      <td>182230374</td>\n",
       "      <td>18444271275</td>\n",
       "      <td>7430904515</td>\n",
       "      <td>999331594</td>\n",
       "    </tr>\n",
       "    <tr>\n",
       "      <th>2020-01-05</th>\n",
       "      <td>14.111019</td>\n",
       "      <td>7411.317383</td>\n",
       "      <td>136.276779</td>\n",
       "      <td>0.195537</td>\n",
       "      <td>14.111019</td>\n",
       "      <td>7411.317383</td>\n",
       "      <td>136.276779</td>\n",
       "      <td>0.195537</td>\n",
       "      <td>14.410801</td>\n",
       "      <td>7544.497070</td>\n",
       "      <td>...</td>\n",
       "      <td>135.045624</td>\n",
       "      <td>0.193884</td>\n",
       "      <td>13.888340</td>\n",
       "      <td>7410.451660</td>\n",
       "      <td>135.072098</td>\n",
       "      <td>0.194367</td>\n",
       "      <td>202552703</td>\n",
       "      <td>19725074095</td>\n",
       "      <td>7526675353</td>\n",
       "      <td>1168067557</td>\n",
       "    </tr>\n",
       "  </tbody>\n",
       "</table>\n",
       "<p>5 rows × 24 columns</p>\n",
       "</div>"
      ],
      "text/plain": [
       "            Adj Close                                         Close  \\\n",
       "              BNB-USD      BTC-USD     ETH-USD   XRP-USD    BNB-USD   \n",
       "Date                                                                  \n",
       "2020-01-01  13.689083  7200.174316  130.802002  0.192667  13.689083   \n",
       "2020-01-02  13.027011  6985.470215  127.410179  0.188043  13.027011   \n",
       "2020-01-03  13.660452  7344.884277  134.171707  0.193521  13.660452   \n",
       "2020-01-04  13.891512  7410.656738  135.069366  0.194355  13.891512   \n",
       "2020-01-05  14.111019  7411.317383  136.276779  0.195537  14.111019   \n",
       "\n",
       "                                                    High               ...  \\\n",
       "                BTC-USD     ETH-USD   XRP-USD    BNB-USD      BTC-USD  ...   \n",
       "Date                                                                   ...   \n",
       "2020-01-01  7200.174316  130.802002  0.192667  13.873946  7254.330566  ...   \n",
       "2020-01-02  6985.470215  127.410179  0.188043  13.715548  7212.155273  ...   \n",
       "2020-01-03  7344.884277  134.171707  0.193521  13.763709  7413.715332  ...   \n",
       "2020-01-04  7410.656738  135.069366  0.194355  13.921914  7427.385742  ...   \n",
       "2020-01-05  7411.317383  136.276779  0.195537  14.410801  7544.497070  ...   \n",
       "\n",
       "                   Low                 Open                           \\\n",
       "               ETH-USD   XRP-USD    BNB-USD      BTC-USD     ETH-USD   \n",
       "Date                                                                   \n",
       "2020-01-01  129.198288  0.192107  13.730962  7194.892090  129.630661   \n",
       "2020-01-02  126.954910  0.186947  13.698126  7202.551270  130.820038   \n",
       "2020-01-03  126.490021  0.185846  13.035329  6984.428711  127.411263   \n",
       "2020-01-04  133.040558  0.191835  13.667442  7345.375488  134.168518   \n",
       "2020-01-05  135.045624  0.193884  13.888340  7410.451660  135.072098   \n",
       "\n",
       "                         Volume                                        \n",
       "             XRP-USD    BNB-USD      BTC-USD      ETH-USD     XRP-USD  \n",
       "Date                                                                   \n",
       "2020-01-01  0.192912  172980718  18565664997   7935230330  1041134003  \n",
       "2020-01-02  0.192708  156376427  20802083465   8032709256  1085351426  \n",
       "2020-01-03  0.187948  173683857  28111481032  10476845358  1270017043  \n",
       "2020-01-04  0.193521  182230374  18444271275   7430904515   999331594  \n",
       "2020-01-05  0.194367  202552703  19725074095   7526675353  1168067557  \n",
       "\n",
       "[5 rows x 24 columns]"
      ]
     },
     "execution_count": 47,
     "metadata": {},
     "output_type": "execute_result"
    }
   ],
   "source": [
    "crypto = yf.download(cryptocurrencies, start='2020-01-01',\n",
    "                end='2021-12-12')\n",
    "crypto.head()"
   ]
  },
  {
   "cell_type": "code",
   "execution_count": 48,
   "id": "3e95c51d-783b-4e55-9c2f-5de55dee3463",
   "metadata": {},
   "outputs": [
    {
     "data": {
      "text/plain": [
       "Adj Close  BNB-USD    False\n",
       "           BTC-USD    False\n",
       "           ETH-USD    False\n",
       "           XRP-USD    False\n",
       "Close      BNB-USD    False\n",
       "           BTC-USD    False\n",
       "           ETH-USD    False\n",
       "           XRP-USD    False\n",
       "High       BNB-USD    False\n",
       "           BTC-USD    False\n",
       "           ETH-USD    False\n",
       "           XRP-USD    False\n",
       "Low        BNB-USD    False\n",
       "           BTC-USD    False\n",
       "           ETH-USD    False\n",
       "           XRP-USD    False\n",
       "Open       BNB-USD    False\n",
       "           BTC-USD    False\n",
       "           ETH-USD    False\n",
       "           XRP-USD    False\n",
       "Volume     BNB-USD    False\n",
       "           BTC-USD    False\n",
       "           ETH-USD    False\n",
       "           XRP-USD    False\n",
       "dtype: bool"
      ]
     },
     "execution_count": 48,
     "metadata": {},
     "output_type": "execute_result"
    }
   ],
   "source": [
    "crypto.isnull().any()"
   ]
  },
  {
   "cell_type": "markdown",
   "id": "60aa2792-d076-4c55-a1a6-68d0e04f2897",
   "metadata": {},
   "source": [
    "Data frame contains no missing data. "
   ]
  },
  {
   "cell_type": "markdown",
   "id": "d1bc8370-e53c-4caf-bdfd-f1d2feeac2bf",
   "metadata": {},
   "source": [
    "Only interested in Adj Close as it's the closing price after adjustments for splits and dividend"
   ]
  },
  {
   "cell_type": "code",
   "execution_count": 49,
   "id": "903b779d-be05-427f-bdc3-e06d9959c65b",
   "metadata": {},
   "outputs": [
    {
     "data": {
      "text/html": [
       "<div>\n",
       "<style scoped>\n",
       "    .dataframe tbody tr th:only-of-type {\n",
       "        vertical-align: middle;\n",
       "    }\n",
       "\n",
       "    .dataframe tbody tr th {\n",
       "        vertical-align: top;\n",
       "    }\n",
       "\n",
       "    .dataframe thead th {\n",
       "        text-align: right;\n",
       "    }\n",
       "</style>\n",
       "<table border=\"1\" class=\"dataframe\">\n",
       "  <thead>\n",
       "    <tr style=\"text-align: right;\">\n",
       "      <th></th>\n",
       "      <th>BNB-USD</th>\n",
       "      <th>BTC-USD</th>\n",
       "      <th>ETH-USD</th>\n",
       "      <th>XRP-USD</th>\n",
       "    </tr>\n",
       "    <tr>\n",
       "      <th>Date</th>\n",
       "      <th></th>\n",
       "      <th></th>\n",
       "      <th></th>\n",
       "      <th></th>\n",
       "    </tr>\n",
       "  </thead>\n",
       "  <tbody>\n",
       "    <tr>\n",
       "      <th>2020-01-01</th>\n",
       "      <td>13.689083</td>\n",
       "      <td>7200.174316</td>\n",
       "      <td>130.802002</td>\n",
       "      <td>0.192667</td>\n",
       "    </tr>\n",
       "    <tr>\n",
       "      <th>2020-01-02</th>\n",
       "      <td>13.027011</td>\n",
       "      <td>6985.470215</td>\n",
       "      <td>127.410179</td>\n",
       "      <td>0.188043</td>\n",
       "    </tr>\n",
       "    <tr>\n",
       "      <th>2020-01-03</th>\n",
       "      <td>13.660452</td>\n",
       "      <td>7344.884277</td>\n",
       "      <td>134.171707</td>\n",
       "      <td>0.193521</td>\n",
       "    </tr>\n",
       "    <tr>\n",
       "      <th>2020-01-04</th>\n",
       "      <td>13.891512</td>\n",
       "      <td>7410.656738</td>\n",
       "      <td>135.069366</td>\n",
       "      <td>0.194355</td>\n",
       "    </tr>\n",
       "    <tr>\n",
       "      <th>2020-01-05</th>\n",
       "      <td>14.111019</td>\n",
       "      <td>7411.317383</td>\n",
       "      <td>136.276779</td>\n",
       "      <td>0.195537</td>\n",
       "    </tr>\n",
       "  </tbody>\n",
       "</table>\n",
       "</div>"
      ],
      "text/plain": [
       "              BNB-USD      BTC-USD     ETH-USD   XRP-USD\n",
       "Date                                                    \n",
       "2020-01-01  13.689083  7200.174316  130.802002  0.192667\n",
       "2020-01-02  13.027011  6985.470215  127.410179  0.188043\n",
       "2020-01-03  13.660452  7344.884277  134.171707  0.193521\n",
       "2020-01-04  13.891512  7410.656738  135.069366  0.194355\n",
       "2020-01-05  14.111019  7411.317383  136.276779  0.195537"
      ]
     },
     "execution_count": 49,
     "metadata": {},
     "output_type": "execute_result"
    }
   ],
   "source": [
    "adj_close=crypto['Adj Close']\n",
    "adj_close.head()"
   ]
  },
  {
   "cell_type": "markdown",
   "id": "6f386196-ca5b-4c82-9f75-a359af533280",
   "metadata": {},
   "source": [
    "# Plotting Adjusted Closing Price: Time Series"
   ]
  },
  {
   "cell_type": "code",
   "execution_count": 51,
   "id": "b9897d27-a12a-41b5-a919-42d86f89a9bb",
   "metadata": {},
   "outputs": [
    {
     "data": {
      "image/png": "[encoded data removed]",
      "text/plain": [
       "<Figure size 1152x576 with 4 Axes>"
      ]
     },
     "metadata": {
      "needs_background": "light"
     },
     "output_type": "display_data"
    }
   ],
   "source": [
    "# ploting the adjusted closing price\n",
    "fig, axs =plt.subplots(2,2,figsize=(16,8),gridspec_kw ={'hspace': 0.2, 'wspace': 0.1})\n",
    "axs[0,0].plot(adj_close['BNB-USD'])\n",
    "axs[0,0].set_title('BNB')\n",
    "axs[0,1].plot(adj_close['BTC-USD'])\n",
    "axs[0,1].set_title('BTC')\n",
    "axs[1,0].plot(adj_close['ETH-USD'])\n",
    "axs[1,0].set_title('ETH')\n",
    "axs[1,1].plot(adj_close['XRP-USD'])\n",
    "axs[1,1].set_title('XRP')\n",
    "plt.show()"
   ]
  },
  {
   "cell_type": "markdown",
   "id": "eb0660a7-8f4f-4772-a0f6-b416561986b9",
   "metadata": {},
   "source": [
    "# Return Series "
   ]
  },
  {
   "cell_type": "markdown",
   "id": "fa2b6295-240c-4791-81f0-6da74b859bfd",
   "metadata": {},
   "source": [
    "Returns = the  percentage change in the Adj Closeing Price"
   ]
  },
  {
   "cell_type": "code",
   "execution_count": 52,
   "id": "e75fdfcf-af42-40d5-88f3-3548697d557a",
   "metadata": {},
   "outputs": [],
   "source": [
    "returns = adj_close.pct_change().dropna(axis=0)"
   ]
  },
  {
   "cell_type": "code",
   "execution_count": 53,
   "id": "2e2ebe52-1a56-49ca-885b-55eba740cdff",
   "metadata": {},
   "outputs": [
    {
     "data": {
      "text/html": [
       "<div>\n",
       "<style scoped>\n",
       "    .dataframe tbody tr th:only-of-type {\n",
       "        vertical-align: middle;\n",
       "    }\n",
       "\n",
       "    .dataframe tbody tr th {\n",
       "        vertical-align: top;\n",
       "    }\n",
       "\n",
       "    .dataframe thead th {\n",
       "        text-align: right;\n",
       "    }\n",
       "</style>\n",
       "<table border=\"1\" class=\"dataframe\">\n",
       "  <thead>\n",
       "    <tr style=\"text-align: right;\">\n",
       "      <th></th>\n",
       "      <th>BNB-USD</th>\n",
       "      <th>BTC-USD</th>\n",
       "      <th>ETH-USD</th>\n",
       "      <th>XRP-USD</th>\n",
       "    </tr>\n",
       "    <tr>\n",
       "      <th>Date</th>\n",
       "      <th></th>\n",
       "      <th></th>\n",
       "      <th></th>\n",
       "      <th></th>\n",
       "    </tr>\n",
       "  </thead>\n",
       "  <tbody>\n",
       "    <tr>\n",
       "      <th>2020-01-02</th>\n",
       "      <td>-0.048365</td>\n",
       "      <td>-0.029819</td>\n",
       "      <td>-0.025931</td>\n",
       "      <td>-0.024000</td>\n",
       "    </tr>\n",
       "    <tr>\n",
       "      <th>2020-01-03</th>\n",
       "      <td>0.048625</td>\n",
       "      <td>0.051452</td>\n",
       "      <td>0.053069</td>\n",
       "      <td>0.029132</td>\n",
       "    </tr>\n",
       "    <tr>\n",
       "      <th>2020-01-04</th>\n",
       "      <td>0.016915</td>\n",
       "      <td>0.008955</td>\n",
       "      <td>0.006690</td>\n",
       "      <td>0.004310</td>\n",
       "    </tr>\n",
       "    <tr>\n",
       "      <th>2020-01-05</th>\n",
       "      <td>0.015802</td>\n",
       "      <td>0.000089</td>\n",
       "      <td>0.008939</td>\n",
       "      <td>0.006082</td>\n",
       "    </tr>\n",
       "    <tr>\n",
       "      <th>2020-01-06</th>\n",
       "      <td>0.060009</td>\n",
       "      <td>0.048291</td>\n",
       "      <td>0.058905</td>\n",
       "      <td>0.132829</td>\n",
       "    </tr>\n",
       "  </tbody>\n",
       "</table>\n",
       "</div>"
      ],
      "text/plain": [
       "             BNB-USD   BTC-USD   ETH-USD   XRP-USD\n",
       "Date                                              \n",
       "2020-01-02 -0.048365 -0.029819 -0.025931 -0.024000\n",
       "2020-01-03  0.048625  0.051452  0.053069  0.029132\n",
       "2020-01-04  0.016915  0.008955  0.006690  0.004310\n",
       "2020-01-05  0.015802  0.000089  0.008939  0.006082\n",
       "2020-01-06  0.060009  0.048291  0.058905  0.132829"
      ]
     },
     "execution_count": 53,
     "metadata": {},
     "output_type": "execute_result"
    }
   ],
   "source": [
    "returns.head()"
   ]
  },
  {
   "cell_type": "markdown",
   "id": "0dcb2b37-5e9b-4509-86ec-3851ae4e45a5",
   "metadata": {},
   "source": [
    "# Plotting the Returns"
   ]
  },
  {
   "cell_type": "code",
   "execution_count": 54,
   "id": "57c7055e-131d-4e81-865e-715ad968ee91",
   "metadata": {},
   "outputs": [
    {
     "data": {
      "image/png": "[encoded data removed]",
      "text/plain": [
       "<Figure size 1152x576 with 4 Axes>"
      ]
     },
     "metadata": {
      "needs_background": "light"
     },
     "output_type": "display_data"
    }
   ],
   "source": [
    "fig, axs = plt.subplots(2,2,figsize=(16,8),gridspec_kw ={'hspace': 0.2, 'wspace': 0.1})\n",
    "axs[0,0].plot(returns['BNB-USD'])\n",
    "axs[0,0].set_title('BNB')\n",
    "axs[0,0].set_ylim([-0.5,0.5])\n",
    "axs[0,1].plot(returns['BTC-USD'])\n",
    "axs[0,1].set_title('BTC')\n",
    "axs[0,1].set_ylim([-0.5,0.5])\n",
    "axs[1,0].plot(returns['ETH-USD'])\n",
    "axs[1,0].set_title('ETH')\n",
    "axs[1,0].set_ylim([-0.5,0.5])\n",
    "axs[1,1].plot(returns['XRP-USD'])\n",
    "axs[1,1].set_title('XRP')\n",
    "axs[1,1].set_ylim([-0.5,0.5])\n",
    "plt.show()"
   ]
  },
  {
   "cell_type": "markdown",
   "id": "f7184b1a-8f8b-4dc2-bde7-9be879dc1243",
   "metadata": {},
   "source": [
    "# Volatility"
   ]
  },
  {
   "cell_type": "code",
   "execution_count": 55,
   "id": "e9c84cd4-1a40-44b2-937d-01d3c0e5057c",
   "metadata": {},
   "outputs": [
    {
     "data": {
      "text/plain": [
       "BNB-USD    0.064984\n",
       "BTC-USD    0.040213\n",
       "ETH-USD    0.053215\n",
       "XRP-USD    0.071626\n",
       "dtype: float64"
      ]
     },
     "execution_count": 55,
     "metadata": {},
     "output_type": "execute_result"
    }
   ],
   "source": [
    "returns.std()"
   ]
  },
  {
   "cell_type": "markdown",
   "id": "0c6f275b-a5f7-491e-a801-a12777ee414c",
   "metadata": {},
   "source": [
    "The lower the standard deviation the lower the volatility. \n",
    "Therefore XRP- Ripple is the most volatile whilist BTC- Bitcoin is the least"
   ]
  },
  {
   "cell_type": "markdown",
   "id": "2b29ab9d-3587-4bb6-b577-5ccb46f61fe1",
   "metadata": {},
   "source": [
    "# Cumulative Returns"
   ]
  },
  {
   "cell_type": "code",
   "execution_count": 56,
   "id": "00989ebf-b247-493d-ab17-7e5969041b0a",
   "metadata": {},
   "outputs": [],
   "source": [
    "creturn = ((1 + returns).cumprod() - 1) *100"
   ]
  },
  {
   "cell_type": "code",
   "execution_count": 57,
   "id": "adadc1f5-2475-46a7-a9e6-9000f8178bb9",
   "metadata": {},
   "outputs": [
    {
     "data": {
      "text/html": [
       "<div>\n",
       "<style scoped>\n",
       "    .dataframe tbody tr th:only-of-type {\n",
       "        vertical-align: middle;\n",
       "    }\n",
       "\n",
       "    .dataframe tbody tr th {\n",
       "        vertical-align: top;\n",
       "    }\n",
       "\n",
       "    .dataframe thead th {\n",
       "        text-align: right;\n",
       "    }\n",
       "</style>\n",
       "<table border=\"1\" class=\"dataframe\">\n",
       "  <thead>\n",
       "    <tr style=\"text-align: right;\">\n",
       "      <th></th>\n",
       "      <th>BNB-USD</th>\n",
       "      <th>BTC-USD</th>\n",
       "      <th>ETH-USD</th>\n",
       "      <th>XRP-USD</th>\n",
       "    </tr>\n",
       "    <tr>\n",
       "      <th>Date</th>\n",
       "      <th></th>\n",
       "      <th></th>\n",
       "      <th></th>\n",
       "      <th></th>\n",
       "    </tr>\n",
       "  </thead>\n",
       "  <tbody>\n",
       "    <tr>\n",
       "      <th>2020-01-02</th>\n",
       "      <td>-4.836498</td>\n",
       "      <td>-2.981929</td>\n",
       "      <td>-2.593097</td>\n",
       "      <td>-2.400000</td>\n",
       "    </tr>\n",
       "    <tr>\n",
       "      <th>2020-01-03</th>\n",
       "      <td>-0.209154</td>\n",
       "      <td>2.009812</td>\n",
       "      <td>2.576188</td>\n",
       "      <td>0.443244</td>\n",
       "    </tr>\n",
       "    <tr>\n",
       "      <th>2020-01-04</th>\n",
       "      <td>1.478761</td>\n",
       "      <td>2.923296</td>\n",
       "      <td>3.262461</td>\n",
       "      <td>0.876117</td>\n",
       "    </tr>\n",
       "    <tr>\n",
       "      <th>2020-01-05</th>\n",
       "      <td>3.082281</td>\n",
       "      <td>2.932472</td>\n",
       "      <td>4.185545</td>\n",
       "      <td>1.489613</td>\n",
       "    </tr>\n",
       "    <tr>\n",
       "      <th>2020-01-06</th>\n",
       "      <td>9.268148</td>\n",
       "      <td>7.903210</td>\n",
       "      <td>10.322588</td>\n",
       "      <td>14.970381</td>\n",
       "    </tr>\n",
       "  </tbody>\n",
       "</table>\n",
       "</div>"
      ],
      "text/plain": [
       "             BNB-USD   BTC-USD    ETH-USD    XRP-USD\n",
       "Date                                                \n",
       "2020-01-02 -4.836498 -2.981929  -2.593097  -2.400000\n",
       "2020-01-03 -0.209154  2.009812   2.576188   0.443244\n",
       "2020-01-04  1.478761  2.923296   3.262461   0.876117\n",
       "2020-01-05  3.082281  2.932472   4.185545   1.489613\n",
       "2020-01-06  9.268148  7.903210  10.322588  14.970381"
      ]
     },
     "execution_count": 57,
     "metadata": {},
     "output_type": "execute_result"
    }
   ],
   "source": [
    "creturn.head()"
   ]
  },
  {
   "cell_type": "markdown",
   "id": "2b7406cf-f233-420c-8104-0a04cf764360",
   "metadata": {},
   "source": [
    "# plotting the Cumulative Returns "
   ]
  },
  {
   "cell_type": "code",
   "execution_count": 58,
   "id": "1ca32a5e-8ab9-445a-8edb-e9155225073e",
   "metadata": {},
   "outputs": [
    {
     "data": {
      "text/plain": [
       "Text(0.5, 1.0, 'Cumulative Returns')"
      ]
     },
     "execution_count": 58,
     "metadata": {},
     "output_type": "execute_result"
    },
    {
     "data": {
      "image/png": "[encoded data removed]",
      "text/plain": [
       "<Figure size 1440x432 with 1 Axes>"
      ]
     },
     "metadata": {
      "needs_background": "light"
     },
     "output_type": "display_data"
    }
   ],
   "source": [
    "creturn.plot(figsize=(20,6))\n",
    "plt.title('Cumulative Returns')"
   ]
  },
  {
   "cell_type": "markdown",
   "id": "384f3c88-3fe4-49b8-a29a-28ca055891c9",
   "metadata": {},
   "source": [
    "Binance (BNB) has the highest cumulative returns with Ripple (XRP) having the lowest. "
   ]
  },
  {
   "cell_type": "markdown",
   "id": "6d0379d2-d200-4d0f-8faf-0d9255808ab5",
   "metadata": {},
   "source": [
    "# Correlation"
   ]
  },
  {
   "cell_type": "code",
   "execution_count": 60,
   "id": "30a9dd5b-cbac-41e7-9477-0d5b22928001",
   "metadata": {},
   "outputs": [
    {
     "data": {
      "text/html": [
       "<div>\n",
       "<style scoped>\n",
       "    .dataframe tbody tr th:only-of-type {\n",
       "        vertical-align: middle;\n",
       "    }\n",
       "\n",
       "    .dataframe tbody tr th {\n",
       "        vertical-align: top;\n",
       "    }\n",
       "\n",
       "    .dataframe thead th {\n",
       "        text-align: right;\n",
       "    }\n",
       "</style>\n",
       "<table border=\"1\" class=\"dataframe\">\n",
       "  <thead>\n",
       "    <tr style=\"text-align: right;\">\n",
       "      <th></th>\n",
       "      <th>BNB-USD</th>\n",
       "      <th>BTC-USD</th>\n",
       "      <th>ETH-USD</th>\n",
       "      <th>XRP-USD</th>\n",
       "    </tr>\n",
       "  </thead>\n",
       "  <tbody>\n",
       "    <tr>\n",
       "      <th>BNB-USD</th>\n",
       "      <td>1.000000</td>\n",
       "      <td>0.641323</td>\n",
       "      <td>0.658493</td>\n",
       "      <td>0.497827</td>\n",
       "    </tr>\n",
       "    <tr>\n",
       "      <th>BTC-USD</th>\n",
       "      <td>0.641323</td>\n",
       "      <td>1.000000</td>\n",
       "      <td>0.793526</td>\n",
       "      <td>0.541033</td>\n",
       "    </tr>\n",
       "    <tr>\n",
       "      <th>ETH-USD</th>\n",
       "      <td>0.658493</td>\n",
       "      <td>0.793526</td>\n",
       "      <td>1.000000</td>\n",
       "      <td>0.581529</td>\n",
       "    </tr>\n",
       "    <tr>\n",
       "      <th>XRP-USD</th>\n",
       "      <td>0.497827</td>\n",
       "      <td>0.541033</td>\n",
       "      <td>0.581529</td>\n",
       "      <td>1.000000</td>\n",
       "    </tr>\n",
       "  </tbody>\n",
       "</table>\n",
       "</div>"
      ],
      "text/plain": [
       "          BNB-USD   BTC-USD   ETH-USD   XRP-USD\n",
       "BNB-USD  1.000000  0.641323  0.658493  0.497827\n",
       "BTC-USD  0.641323  1.000000  0.793526  0.541033\n",
       "ETH-USD  0.658493  0.793526  1.000000  0.581529\n",
       "XRP-USD  0.497827  0.541033  0.581529  1.000000"
      ]
     },
     "execution_count": 60,
     "metadata": {},
     "output_type": "execute_result"
    }
   ],
   "source": [
    "returns.corr()"
   ]
  },
  {
   "cell_type": "markdown",
   "id": "94a1b4ac-7009-4687-af27-cfa9a069a21f",
   "metadata": {},
   "source": [
    "# Plotting Correlation "
   ]
  },
  {
   "cell_type": "code",
   "execution_count": 61,
   "id": "f5cf0584-1d64-4cbf-b566-31d4166b1596",
   "metadata": {},
   "outputs": [
    {
     "data": {
      "image/png": "[encoded data removed]",
      "text/plain": [
       "<Figure size 432x288 with 2 Axes>"
      ]
     },
     "metadata": {
      "needs_background": "light"
     },
     "output_type": "display_data"
    }
   ],
   "source": [
    "sns.heatmap(returns.corr(), annot=True, cmap='coolwarm')\n",
    "plt.show()"
   ]
  },
  {
   "cell_type": "markdown",
   "id": "8713b15d-933c-4171-91b0-1305cc8959f9",
   "metadata": {},
   "source": [
    "Ethereum and Bitcoin have high correlation. "
   ]
  },
  {
   "cell_type": "code",
   "execution_count": null,
   "id": "110787ca-cf3f-4e6b-9474-9c338a55e98c",
   "metadata": {},
   "outputs": [],
   "source": []
  }
 ],
 "metadata": {
  "kernelspec": {
   "display_name": "Python 3",
   "language": "python",
   "name": "python3"
  },
  "language_info": {
   "codemirror_mode": {
    "name": "ipython",
    "version": 3
   },
   "file_extension": ".py",
   "mimetype": "text/x-python",
   "name": "python",
   "nbconvert_exporter": "python",
   "pygments_lexer": "ipython3",
   "version": "3.8.8"
  }
 },
 "nbformat": 4,
 "nbformat_minor": 5
}
